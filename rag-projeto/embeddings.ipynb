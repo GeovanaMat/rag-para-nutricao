{
 "cells": [
  {
   "cell_type": "code",
   "execution_count": 8,
   "metadata": {
    "id": "N9vTMvwrxXNP"
   },
   "outputs": [],
   "source": [
    "from langchain.document_loaders import DirectoryLoader, PyPDFLoader\n",
    "from langchain.vectorstores import Pinecone\n",
    "from langchain_pinecone import PineconeVectorStore\n",
    "from pinecone import Pinecone as PC\n",
    "from pinecone import ServerlessSpec\n",
    "from langchain_text_splitters import RecursiveCharacterTextSplitter\n",
    "import os\n",
    "import glob\n",
    "from sentence_transformers import SentenceTransformer\n",
    "from langchain.embeddings import HuggingFaceEmbeddings\n",
    "from langchain.document_loaders import FileSystemBlobLoader\n",
    "from langchain.document_loaders.generic import GenericLoader\n",
    "from langchain.document_loaders.parsers import PyPDFParser\n",
    "import time"
   ]
  },
  {
   "cell_type": "code",
   "execution_count": 9,
   "metadata": {
    "id": "89s2yDEFrWXW"
   },
   "outputs": [],
   "source": [
    "#gerar n versoes da pergunta\n",
    "#criar novos docs a partir do artigo, categorizados"
   ]
  },
  {
   "cell_type": "markdown",
   "metadata": {
    "id": "bk5FY2u4oojf"
   },
   "source": []
  },
  {
   "cell_type": "code",
   "execution_count": 10,
   "metadata": {
    "id": "hdVsNYrWyHxA"
   },
   "outputs": [],
   "source": [
    "loader = DirectoryLoader(\n",
    "    \"/content/data\",\n",
    "    glob=\"*.pdf\",\n",
    "    loader_cls=PyPDFLoader\n",
    ")"
   ]
  },
  {
   "cell_type": "code",
   "execution_count": 11,
   "metadata": {
    "id": "abdDfixwz_dl"
   },
   "outputs": [
    {
     "ename": "FileNotFoundError",
     "evalue": "Directory not found: '/content/data'",
     "output_type": "error",
     "traceback": [
      "\u001b[0;31m---------------------------------------------------------------------------\u001b[0m",
      "\u001b[0;31mFileNotFoundError\u001b[0m                         Traceback (most recent call last)",
      "Cell \u001b[0;32mIn[11], line 1\u001b[0m\n\u001b[0;32m----> 1\u001b[0m docs \u001b[38;5;241m=\u001b[39m loader\u001b[38;5;241m.\u001b[39mload()\n\u001b[1;32m      3\u001b[0m text_splitter \u001b[38;5;241m=\u001b[39m RecursiveCharacterTextSplitter(\n\u001b[1;32m      4\u001b[0m     chunk_size\u001b[38;5;241m=\u001b[39m\u001b[38;5;241m500\u001b[39m,  \u001b[38;5;66;03m# Tamanho máximo de cada pedaço\u001b[39;00m\n\u001b[1;32m      5\u001b[0m     chunk_overlap\u001b[38;5;241m=\u001b[39m\u001b[38;5;241m50\u001b[39m \u001b[38;5;66;03m# Sobreposição entre pedaços\u001b[39;00m\n\u001b[1;32m      6\u001b[0m )\n\u001b[1;32m      7\u001b[0m docs_splitted \u001b[38;5;241m=\u001b[39m text_splitter\u001b[38;5;241m.\u001b[39msplit_documents(docs)\n",
      "File \u001b[0;32m~/anaconda3/lib/python3.11/site-packages/langchain_community/document_loaders/directory.py:117\u001b[0m, in \u001b[0;36mDirectoryLoader.load\u001b[0;34m(self)\u001b[0m\n\u001b[1;32m    115\u001b[0m \u001b[38;5;28;01mdef\u001b[39;00m \u001b[38;5;21mload\u001b[39m(\u001b[38;5;28mself\u001b[39m) \u001b[38;5;241m-\u001b[39m\u001b[38;5;241m>\u001b[39m List[Document]:\n\u001b[1;32m    116\u001b[0m \u001b[38;5;250m    \u001b[39m\u001b[38;5;124;03m\"\"\"Load documents.\"\"\"\u001b[39;00m\n\u001b[0;32m--> 117\u001b[0m     \u001b[38;5;28;01mreturn\u001b[39;00m \u001b[38;5;28mlist\u001b[39m(\u001b[38;5;28mself\u001b[39m\u001b[38;5;241m.\u001b[39mlazy_load())\n",
      "File \u001b[0;32m~/anaconda3/lib/python3.11/site-packages/langchain_community/document_loaders/directory.py:123\u001b[0m, in \u001b[0;36mDirectoryLoader.lazy_load\u001b[0;34m(self)\u001b[0m\n\u001b[1;32m    121\u001b[0m p \u001b[38;5;241m=\u001b[39m Path(\u001b[38;5;28mself\u001b[39m\u001b[38;5;241m.\u001b[39mpath)\n\u001b[1;32m    122\u001b[0m \u001b[38;5;28;01mif\u001b[39;00m \u001b[38;5;129;01mnot\u001b[39;00m p\u001b[38;5;241m.\u001b[39mexists():\n\u001b[0;32m--> 123\u001b[0m     \u001b[38;5;28;01mraise\u001b[39;00m \u001b[38;5;167;01mFileNotFoundError\u001b[39;00m(\u001b[38;5;124mf\u001b[39m\u001b[38;5;124m\"\u001b[39m\u001b[38;5;124mDirectory not found: \u001b[39m\u001b[38;5;124m'\u001b[39m\u001b[38;5;132;01m{\u001b[39;00m\u001b[38;5;28mself\u001b[39m\u001b[38;5;241m.\u001b[39mpath\u001b[38;5;132;01m}\u001b[39;00m\u001b[38;5;124m'\u001b[39m\u001b[38;5;124m\"\u001b[39m)\n\u001b[1;32m    124\u001b[0m \u001b[38;5;28;01mif\u001b[39;00m \u001b[38;5;129;01mnot\u001b[39;00m p\u001b[38;5;241m.\u001b[39mis_dir():\n\u001b[1;32m    125\u001b[0m     \u001b[38;5;28;01mraise\u001b[39;00m \u001b[38;5;167;01mValueError\u001b[39;00m(\u001b[38;5;124mf\u001b[39m\u001b[38;5;124m\"\u001b[39m\u001b[38;5;124mExpected directory, got file: \u001b[39m\u001b[38;5;124m'\u001b[39m\u001b[38;5;132;01m{\u001b[39;00m\u001b[38;5;28mself\u001b[39m\u001b[38;5;241m.\u001b[39mpath\u001b[38;5;132;01m}\u001b[39;00m\u001b[38;5;124m'\u001b[39m\u001b[38;5;124m\"\u001b[39m)\n",
      "\u001b[0;31mFileNotFoundError\u001b[0m: Directory not found: '/content/data'"
     ]
    }
   ],
   "source": [
    "docs = loader.load()\n",
    "\n",
    "text_splitter = RecursiveCharacterTextSplitter(\n",
    "    chunk_size=500,  # Tamanho máximo de cada pedaço\n",
    "    chunk_overlap=50 # Sobreposição entre pedaços\n",
    ")\n",
    "docs_splitted = text_splitter.split_documents(docs)\n",
    "\n",
    "texts = [doc.page_content for doc in docs_splitted]\n"
   ]
  },
  {
   "cell_type": "code",
   "execution_count": null,
   "metadata": {
    "id": "hJ4qPs_s1L39"
   },
   "outputs": [],
   "source": [
    "\n",
    "os.environ['PINECONE_API_KEY'] = userdata.get('PINECONE_API_KEY')\n"
   ]
  },
  {
   "cell_type": "code",
   "execution_count": 39,
   "metadata": {
    "id": "uppKVAMgcpoB"
   },
   "outputs": [],
   "source": [
    "model = SentenceTransformer('sentence-transformers/all-MiniLM-L6-v2')\n",
    "embeddings = model.encode(texts)"
   ]
  },
  {
   "cell_type": "code",
   "execution_count": 181,
   "metadata": {
    "id": "TzFrDhP23CIH"
   },
   "outputs": [],
   "source": [
    "index_name = \"rag\"\n",
    "pc = PC(api_key=\"pcsk_6JsENF_EkUKdhWBGJXSsKsbKdU2E5HAuGGq8AvfAvaCjFYj2BJUBxgEPq9GHQYMk2wK6ST\")\n",
    "index = pc.Index(index_name)"
   ]
  },
  {
   "cell_type": "code",
   "execution_count": 182,
   "metadata": {
    "id": "mrG8oFjW4V0P"
   },
   "outputs": [],
   "source": [
    "embedder = HuggingFaceEmbeddings(\n",
    "    model_name=\"sentence-transformers/all-MiniLM-L6-v2\"\n",
    ")\n",
    "\n",
    "\n",
    "vectorstore = PineconeVectorStore.from_documents(docs_splitted, embedder, index_name=index_name)\n"
   ]
  },
  {
   "cell_type": "code",
   "execution_count": 193,
   "metadata": {
    "id": "IJfFBtIg4uzv"
   },
   "outputs": [],
   "source": [
    "query = \"trap rf\"\n",
    "similar_docs = vectorstore.similarity_search(query)"
   ]
  },
  {
   "cell_type": "code",
   "execution_count": 194,
   "metadata": {
    "colab": {
     "base_uri": "https://localhost:8080/"
    },
    "id": "bgl2SAUl41A4",
    "outputId": "7122b530-fa84-4286-ff52-845afe2510fe"
   },
   "outputs": [
    {
     "data": {
      "text/plain": [
       "[Document(id='db720f0b-91b1-4a59-a6d1-f6e9ebeb24ab', metadata={'author': '', 'creationdate': '2020-08-04T00:04:15+00:00', 'creator': 'LaTeX with hyperref package', 'keywords': '', 'moddate': '2020-08-04T00:04:15+00:00', 'page': 8.0, 'page_label': '9', 'producer': 'pdfTeX-1.40.17', 'ptex.fullbanner': 'This is pdfTeX, Version 3.14159265-2.6-1.40.17 (TeX Live 2016) kpathsea version 6.2.2', 'source': '/content/data/2008.00065v1.pdf', 'subject': '', 'title': '', 'total_pages': 15.0, 'trapped': '/False'}, page_content='removed using a 7th-order Bessel notch ﬁlter after the\\noutput ampliﬁers, which provides 40 dB insertion loss at\\nthe trap rf frequency, with a 3 dB bandwidth of 14 MHz.\\nA ﬁnal dissipative Gaussian lowpass ﬁlter withf3dB = 25\\nMHz gives an additional 18 dB insertion loss at the trap\\nrf frequency, while also reducing the noise bandwidth.\\nThis improves pulse discrimination, which is carried out'),\n",
       " Document(id='80f96859-43a5-410d-aa95-bd84ca5f2cd5', metadata={'author': '', 'creationdate': '2020-08-04T00:04:15+00:00', 'creator': 'LaTeX with hyperref package', 'keywords': '', 'moddate': '2020-08-04T00:04:15+00:00', 'page': 1.0, 'page_label': '2', 'producer': 'pdfTeX-1.40.17', 'ptex.fullbanner': 'This is pdfTeX, Version 3.14159265-2.6-1.40.17 (TeX Live 2016) kpathsea version 6.2.2', 'source': '/content/data/2008.00065v1.pdf', 'subject': '', 'title': '', 'total_pages': 15.0, 'trapped': '/False'}, page_content='zones, as indicated by the faint laser beam arrows directed at\\nzone B.\\noperated at a temperature of ≈3.5 K [43].\\nWe trap a single 9Be+ ion with typical motional\\nfrequencies of ∼ 2 MHz in the axial direction and\\n5 MHz to 10 MHz in the radial directions (normal\\nto the trap axis). The potential on the trap rf elec-\\ntrodes has a peak amplitude of 8.8 V at a frequency\\nof 67.03 MHz. A magnetic ﬁeld of 0.56 mT, in the\\nplane of the trap electrodes and oriented at 45 ◦ rela-'),\n",
       " Document(id='5877b485-4390-4bdd-8b88-7db3a377cc3f', metadata={'author': '', 'creationdate': '2020-08-04T00:04:15+00:00', 'creator': 'LaTeX with hyperref package', 'keywords': '', 'moddate': '2020-08-04T00:04:15+00:00', 'page': 10.0, 'page_label': '11', 'producer': 'pdfTeX-1.40.17', 'ptex.fullbanner': 'This is pdfTeX, Version 3.14159265-2.6-1.40.17 (TeX Live 2016) kpathsea version 6.2.2', 'source': '/content/data/2008.00065v1.pdf', 'subject': '', 'title': '', 'total_pages': 15.0, 'trapped': '/False'}, page_content='capacitive coupling to the trap rf electrodes, as well as series inductance and resistance. One lead is grounded oﬀ-chip, while\\nthe other sees a 50 Ω impedance to ground (see Fig. S2). We solve for the currents in the nanowire inductor segments to\\ndetermine Irf(k,t).\\n|ZLN |≪| ZCRN |, |ZCNG |).\\nThe capacitive coupling CRL between the trap rf elec-\\ntrodes and the SNSPD leads induces an oscillating rf\\nvoltage at each end of the nanowire. If the termination'),\n",
       " Document(id='1dd30954-2472-4df9-beb2-61a144ea3479', metadata={'author': '', 'creationdate': '2020-08-04T00:04:15+00:00', 'creator': 'LaTeX with hyperref package', 'keywords': '', 'moddate': '2020-08-04T00:04:15+00:00', 'page': 10.0, 'page_label': '11', 'producer': 'pdfTeX-1.40.17', 'ptex.fullbanner': 'This is pdfTeX, Version 3.14159265-2.6-1.40.17 (TeX Live 2016) kpathsea version 6.2.2', 'source': '/content/data/2008.00065v1.pdf', 'subject': '', 'title': '', 'total_pages': 15.0, 'trapped': '/False'}, page_content='currents in phase with the trap rf drive, and one spatially\\nvarying (k-dependent) current 90 degrees out of phase\\nwith the trap rf drive. For the parameters of our device,\\nthe spatially-varying induced current is dominant.\\nThe circuit model explains why attempts to increase\\nIm and/or SDE by applying an rf “cancellation” bias cur-\\nrent to the SNSPD, as demonstrated in Ref. [29], were\\nnot successful; such a cancellation tone is spatially uni-')]"
      ]
     },
     "execution_count": 194,
     "metadata": {},
     "output_type": "execute_result"
    }
   ],
   "source": [
    "similar_docs"
   ]
  },
  {
   "cell_type": "code",
   "execution_count": null,
   "metadata": {
    "id": "ogJGakm-7Xpb"
   },
   "outputs": [],
   "source": []
  },
  {
   "cell_type": "code",
   "execution_count": 165,
   "metadata": {
    "colab": {
     "base_uri": "https://localhost:8080/"
    },
    "id": "yyzGuhOchbBh",
    "outputId": "37948e77-23c5-40e4-9b58-e02042a8b308"
   },
   "outputs": [
    {
     "name": "stdout",
     "output_type": "stream",
     "text": [
      "\u001b[33mWARNING: pinecone 6.0.2 does not provide the extra 'async'\u001b[0m\u001b[33m\n",
      "\u001b[0m"
     ]
    }
   ],
   "source": [
    "\n"
   ]
  },
  {
   "cell_type": "code",
   "execution_count": null,
   "metadata": {
    "id": "oQeRRw21rF6I"
   },
   "outputs": [],
   "source": []
  }
 ],
 "metadata": {
  "colab": {
   "provenance": []
  },
  "kernelspec": {
   "display_name": "Python 3 (ipykernel)",
   "language": "python",
   "name": "python3"
  },
  "language_info": {
   "codemirror_mode": {
    "name": "ipython",
    "version": 3
   },
   "file_extension": ".py",
   "mimetype": "text/x-python",
   "name": "python",
   "nbconvert_exporter": "python",
   "pygments_lexer": "ipython3",
   "version": "3.11.7"
  }
 },
 "nbformat": 4,
 "nbformat_minor": 4
}
