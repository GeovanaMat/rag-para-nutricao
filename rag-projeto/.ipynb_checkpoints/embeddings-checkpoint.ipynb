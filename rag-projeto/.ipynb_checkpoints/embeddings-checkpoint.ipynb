{
  "nbformat": 4,
  "nbformat_minor": 0,
  "metadata": {
    "colab": {
      "provenance": []
    },
    "kernelspec": {
      "name": "python3",
      "display_name": "Python 3"
    },
    "language_info": {
      "name": "python"
    }
  },
  "cells": [
    {
      "cell_type": "code",
      "execution_count": 174,
      "metadata": {
        "id": "N9vTMvwrxXNP"
      },
      "outputs": [],
      "source": [
        "from langchain.document_loaders import DirectoryLoader, PyPDFLoader\n",
        "from langchain.vectorstores import Pinecone\n",
        "from langchain_pinecone import PineconeVectorStore\n",
        "from pinecone import Pinecone as PC\n",
        "from pinecone import ServerlessSpec\n",
        "from langchain_text_splitters import RecursiveCharacterTextSplitter\n",
        "import os\n",
        "import glob\n",
        "from google.colab import userdata\n",
        "from sentence_transformers import SentenceTransformer\n",
        "from langchain.embeddings import HuggingFaceEmbeddings\n",
        "from langchain.document_loaders import FileSystemBlobLoader\n",
        "from langchain.document_loaders.generic import GenericLoader\n",
        "from langchain.document_loaders.parsers import PyPDFParser\n",
        "import time"
      ]
    },
    {
      "cell_type": "code",
      "source": [
        "#gerar n versoes da pergunta\n",
        "#criar novos docs a partir do artigo, categorizados"
      ],
      "metadata": {
        "id": "89s2yDEFrWXW"
      },
      "execution_count": null,
      "outputs": []
    },
    {
      "cell_type": "markdown",
      "source": [],
      "metadata": {
        "id": "bk5FY2u4oojf"
      }
    },
    {
      "cell_type": "code",
      "source": [
        "loader = DirectoryLoader(\n",
        "    \"/content/data\",\n",
        "    glob=\"*.pdf\",\n",
        "    loader_cls=PyPDFLoader\n",
        ")"
      ],
      "metadata": {
        "id": "hdVsNYrWyHxA"
      },
      "execution_count": 28,
      "outputs": []
    },
    {
      "cell_type": "code",
      "source": [
        "docs = loader.load()\n",
        "\n",
        "text_splitter = RecursiveCharacterTextSplitter(\n",
        "    chunk_size=500,  # Tamanho máximo de cada pedaço\n",
        "    chunk_overlap=50 # Sobreposição entre pedaços\n",
        ")\n",
        "docs_splitted = text_splitter.split_documents(docs)\n",
        "\n",
        "texts = [doc.page_content for doc in docs_splitted]\n"
      ],
      "metadata": {
        "id": "abdDfixwz_dl"
      },
      "execution_count": 31,
      "outputs": []
    },
    {
      "cell_type": "code",
      "source": [
        "\n",
        "os.environ['PINECONE_API_KEY'] = userdata.get('PINECONE_API_KEY')\n"
      ],
      "metadata": {
        "id": "hJ4qPs_s1L39"
      },
      "execution_count": 120,
      "outputs": []
    },
    {
      "cell_type": "code",
      "source": [
        "model = SentenceTransformer('sentence-transformers/all-MiniLM-L6-v2')\n",
        "embeddings = model.encode(texts)"
      ],
      "metadata": {
        "id": "uppKVAMgcpoB"
      },
      "execution_count": 39,
      "outputs": []
    },
    {
      "cell_type": "code",
      "source": [
        "index_name = \"rag\"\n",
        "pc = PC(api_key=\"pcsk_6JsENF_EkUKdhWBGJXSsKsbKdU2E5HAuGGq8AvfAvaCjFYj2BJUBxgEPq9GHQYMk2wK6ST\")\n",
        "index = pc.Index(index_name)"
      ],
      "metadata": {
        "id": "TzFrDhP23CIH"
      },
      "execution_count": 181,
      "outputs": []
    },
    {
      "cell_type": "code",
      "source": [
        "embedder = HuggingFaceEmbeddings(\n",
        "    model_name=\"sentence-transformers/all-MiniLM-L6-v2\"\n",
        ")\n",
        "\n",
        "\n",
        "vectorstore = PineconeVectorStore.from_documents(docs_splitted, embedder, index_name=index_name)\n"
      ],
      "metadata": {
        "id": "mrG8oFjW4V0P"
      },
      "execution_count": 182,
      "outputs": []
    },
    {
      "cell_type": "code",
      "source": [
        "query = \"trap rf\"\n",
        "similar_docs = vectorstore.similarity_search(query)"
      ],
      "metadata": {
        "id": "IJfFBtIg4uzv"
      },
      "execution_count": 193,
      "outputs": []
    },
    {
      "cell_type": "code",
      "source": [
        "similar_docs"
      ],
      "metadata": {
        "colab": {
          "base_uri": "https://localhost:8080/"
        },
        "id": "bgl2SAUl41A4",
        "outputId": "7122b530-fa84-4286-ff52-845afe2510fe"
      },
      "execution_count": 194,
      "outputs": [
        {
          "output_type": "execute_result",
          "data": {
            "text/plain": [
              "[Document(id='db720f0b-91b1-4a59-a6d1-f6e9ebeb24ab', metadata={'author': '', 'creationdate': '2020-08-04T00:04:15+00:00', 'creator': 'LaTeX with hyperref package', 'keywords': '', 'moddate': '2020-08-04T00:04:15+00:00', 'page': 8.0, 'page_label': '9', 'producer': 'pdfTeX-1.40.17', 'ptex.fullbanner': 'This is pdfTeX, Version 3.14159265-2.6-1.40.17 (TeX Live 2016) kpathsea version 6.2.2', 'source': '/content/data/2008.00065v1.pdf', 'subject': '', 'title': '', 'total_pages': 15.0, 'trapped': '/False'}, page_content='removed using a 7th-order Bessel notch ﬁlter after the\\noutput ampliﬁers, which provides 40 dB insertion loss at\\nthe trap rf frequency, with a 3 dB bandwidth of 14 MHz.\\nA ﬁnal dissipative Gaussian lowpass ﬁlter withf3dB = 25\\nMHz gives an additional 18 dB insertion loss at the trap\\nrf frequency, while also reducing the noise bandwidth.\\nThis improves pulse discrimination, which is carried out'),\n",
              " Document(id='80f96859-43a5-410d-aa95-bd84ca5f2cd5', metadata={'author': '', 'creationdate': '2020-08-04T00:04:15+00:00', 'creator': 'LaTeX with hyperref package', 'keywords': '', 'moddate': '2020-08-04T00:04:15+00:00', 'page': 1.0, 'page_label': '2', 'producer': 'pdfTeX-1.40.17', 'ptex.fullbanner': 'This is pdfTeX, Version 3.14159265-2.6-1.40.17 (TeX Live 2016) kpathsea version 6.2.2', 'source': '/content/data/2008.00065v1.pdf', 'subject': '', 'title': '', 'total_pages': 15.0, 'trapped': '/False'}, page_content='zones, as indicated by the faint laser beam arrows directed at\\nzone B.\\noperated at a temperature of ≈3.5 K [43].\\nWe trap a single 9Be+ ion with typical motional\\nfrequencies of ∼ 2 MHz in the axial direction and\\n5 MHz to 10 MHz in the radial directions (normal\\nto the trap axis). The potential on the trap rf elec-\\ntrodes has a peak amplitude of 8.8 V at a frequency\\nof 67.03 MHz. A magnetic ﬁeld of 0.56 mT, in the\\nplane of the trap electrodes and oriented at 45 ◦ rela-'),\n",
              " Document(id='5877b485-4390-4bdd-8b88-7db3a377cc3f', metadata={'author': '', 'creationdate': '2020-08-04T00:04:15+00:00', 'creator': 'LaTeX with hyperref package', 'keywords': '', 'moddate': '2020-08-04T00:04:15+00:00', 'page': 10.0, 'page_label': '11', 'producer': 'pdfTeX-1.40.17', 'ptex.fullbanner': 'This is pdfTeX, Version 3.14159265-2.6-1.40.17 (TeX Live 2016) kpathsea version 6.2.2', 'source': '/content/data/2008.00065v1.pdf', 'subject': '', 'title': '', 'total_pages': 15.0, 'trapped': '/False'}, page_content='capacitive coupling to the trap rf electrodes, as well as series inductance and resistance. One lead is grounded oﬀ-chip, while\\nthe other sees a 50 Ω impedance to ground (see Fig. S2). We solve for the currents in the nanowire inductor segments to\\ndetermine Irf(k,t).\\n|ZLN |≪| ZCRN |, |ZCNG |).\\nThe capacitive coupling CRL between the trap rf elec-\\ntrodes and the SNSPD leads induces an oscillating rf\\nvoltage at each end of the nanowire. If the termination'),\n",
              " Document(id='1dd30954-2472-4df9-beb2-61a144ea3479', metadata={'author': '', 'creationdate': '2020-08-04T00:04:15+00:00', 'creator': 'LaTeX with hyperref package', 'keywords': '', 'moddate': '2020-08-04T00:04:15+00:00', 'page': 10.0, 'page_label': '11', 'producer': 'pdfTeX-1.40.17', 'ptex.fullbanner': 'This is pdfTeX, Version 3.14159265-2.6-1.40.17 (TeX Live 2016) kpathsea version 6.2.2', 'source': '/content/data/2008.00065v1.pdf', 'subject': '', 'title': '', 'total_pages': 15.0, 'trapped': '/False'}, page_content='currents in phase with the trap rf drive, and one spatially\\nvarying (k-dependent) current 90 degrees out of phase\\nwith the trap rf drive. For the parameters of our device,\\nthe spatially-varying induced current is dominant.\\nThe circuit model explains why attempts to increase\\nIm and/or SDE by applying an rf “cancellation” bias cur-\\nrent to the SNSPD, as demonstrated in Ref. [29], were\\nnot successful; such a cancellation tone is spatially uni-')]"
            ]
          },
          "metadata": {},
          "execution_count": 194
        }
      ]
    },
    {
      "cell_type": "code",
      "source": [],
      "metadata": {
        "id": "ogJGakm-7Xpb"
      },
      "execution_count": null,
      "outputs": []
    },
    {
      "cell_type": "code",
      "source": [
        "!pip install -qU langchain-pinecone\n"
      ],
      "metadata": {
        "colab": {
          "base_uri": "https://localhost:8080/"
        },
        "id": "yyzGuhOchbBh",
        "outputId": "37948e77-23c5-40e4-9b58-e02042a8b308"
      },
      "execution_count": 165,
      "outputs": [
        {
          "output_type": "stream",
          "name": "stdout",
          "text": [
            "\u001b[33mWARNING: pinecone 6.0.2 does not provide the extra 'async'\u001b[0m\u001b[33m\n",
            "\u001b[0m"
          ]
        }
      ]
    },
    {
      "cell_type": "code",
      "source": [],
      "metadata": {
        "id": "oQeRRw21rF6I"
      },
      "execution_count": null,
      "outputs": []
    }
  ]
}