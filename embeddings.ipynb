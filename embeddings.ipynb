{
 "cells": [
  {
   "cell_type": "code",
   "execution_count": 2,
   "metadata": {},
   "outputs": [
    {
     "name": "stdout",
     "output_type": "stream",
     "text": [
      "Requirement already satisfied: umap-learn in /home/geovana/miniconda3/envs/redesneurais/lib/python3.13/site-packages (0.5.7)\n",
      "Requirement already satisfied: plotly in /home/geovana/miniconda3/envs/redesneurais/lib/python3.13/site-packages (6.1.0)\n",
      "Requirement already satisfied: numpy>=1.17 in /home/geovana/miniconda3/envs/redesneurais/lib/python3.13/site-packages (from umap-learn) (2.2.4)\n",
      "Requirement already satisfied: scipy>=1.3.1 in /home/geovana/miniconda3/envs/redesneurais/lib/python3.13/site-packages (from umap-learn) (1.15.2)\n",
      "Requirement already satisfied: scikit-learn>=0.22 in /home/geovana/miniconda3/envs/redesneurais/lib/python3.13/site-packages (from umap-learn) (1.6.1)\n",
      "Requirement already satisfied: numba>=0.51.2 in /home/geovana/miniconda3/envs/redesneurais/lib/python3.13/site-packages (from umap-learn) (0.61.2)\n",
      "Requirement already satisfied: pynndescent>=0.5 in /home/geovana/miniconda3/envs/redesneurais/lib/python3.13/site-packages (from umap-learn) (0.5.13)\n",
      "Requirement already satisfied: tqdm in /home/geovana/miniconda3/envs/redesneurais/lib/python3.13/site-packages (from umap-learn) (4.67.1)\n",
      "Requirement already satisfied: narwhals>=1.15.1 in /home/geovana/miniconda3/envs/redesneurais/lib/python3.13/site-packages (from plotly) (1.40.0)\n",
      "Requirement already satisfied: packaging in /home/geovana/miniconda3/envs/redesneurais/lib/python3.13/site-packages (from plotly) (24.2)\n",
      "Requirement already satisfied: llvmlite<0.45,>=0.44.0dev0 in /home/geovana/miniconda3/envs/redesneurais/lib/python3.13/site-packages (from numba>=0.51.2->umap-learn) (0.44.0)\n",
      "Requirement already satisfied: joblib>=0.11 in /home/geovana/miniconda3/envs/redesneurais/lib/python3.13/site-packages (from pynndescent>=0.5->umap-learn) (1.5.0)\n",
      "Requirement already satisfied: threadpoolctl>=3.1.0 in /home/geovana/miniconda3/envs/redesneurais/lib/python3.13/site-packages (from scikit-learn>=0.22->umap-learn) (3.6.0)\n"
     ]
    }
   ],
   "source": [
    "!pip install umap-learn plotly"
   ]
  },
  {
   "cell_type": "code",
   "execution_count": 3,
   "metadata": {
    "id": "N9vTMvwrxXNP"
   },
   "outputs": [],
   "source": [
    "from langchain.document_loaders import DirectoryLoader, PyPDFLoader,TextLoader\n",
    "from langchain.vectorstores import Pinecone\n",
    "from langchain_pinecone import PineconeVectorStore\n",
    "from pinecone import Pinecone as PC\n",
    "from pinecone import ServerlessSpec\n",
    "from langchain_text_splitters import RecursiveCharacterTextSplitter\n",
    "import os\n",
    "import glob\n",
    "from sentence_transformers import SentenceTransformer\n",
    "from langchain.embeddings import HuggingFaceEmbeddings\n",
    "from langchain.document_loaders import FileSystemBlobLoader\n",
    "from langchain.document_loaders.generic import GenericLoader\n",
    "from langchain.document_loaders.parsers import PyPDFParser\n",
    "import time\n",
    "import numpy as np\n",
    "from sklearn.decomposition import PCA\n",
    "import matplotlib.pyplot as plt\n",
    "import uuid\n",
    "from ollama import Client\n",
    "from more_itertools import chunked  # ou use uma função caseira\n",
    "import hashlib\n",
    "import umap.umap_ as umap\n",
    "\n",
    "import plotly.express as px\n",
    "import numpy as np"
   ]
  },
  {
   "cell_type": "code",
   "execution_count": 4,
   "metadata": {
    "id": "hdVsNYrWyHxA"
   },
   "outputs": [],
   "source": [
    "loader = DirectoryLoader(\n",
    "    \"./rag-projeto/data\",\n",
    "    glob=\"*.pdf\",\n",
    "    loader_cls=PyPDFLoader\n",
    ")\n",
    "txt_loader = DirectoryLoader(\n",
    "    \"./rag-projeto/data\",\n",
    "    glob=\"*.txt\",\n",
    "    loader_cls=TextLoader\n",
    ")"
   ]
  },
  {
   "cell_type": "code",
   "execution_count": 5,
   "metadata": {},
   "outputs": [],
   "source": [
    "def hash_id(text):\n",
    "    return hashlib.sha256(text.encode('utf-8')).hexdigest()"
   ]
  },
  {
   "cell_type": "code",
   "execution_count": 6,
   "metadata": {
    "id": "abdDfixwz_dl"
   },
   "outputs": [],
   "source": [
    "docs = loader.load() + txt_loader.load()\n",
    "\n",
    "text_splitter = RecursiveCharacterTextSplitter(\n",
    "    chunk_size=500,  # Tamanho máximo de cada pedaço\n",
    "    chunk_overlap=50 # Sobreposição entre pedaços\n",
    ")\n",
    "docs_splitted = text_splitter.split_documents(docs)\n",
    "\n",
    "texts = [doc.page_content for doc in docs_splitted]\n",
    "#criar ID para rastrear os vetores\n",
    "ids = [hash_id(t) for t in texts]\n",
    "#Apaga todos os vetores mas mantem o index criado\n",
    "#index.delete(delete_all=True)"
   ]
  },
  {
   "cell_type": "code",
   "execution_count": 7,
   "metadata": {
    "id": "hJ4qPs_s1L39"
   },
   "outputs": [],
   "source": [
    "\n",
    "os.environ['PINECONE_API_KEY'] = 'pcsk_6JsENF_EkUKdhWBGJXSsKsbKdU2E5HAuGGq8AvfAvaCjFYj2BJUBxgEPq9GHQYMk2wK6ST'\n"
   ]
  },
  {
   "cell_type": "code",
   "execution_count": 8,
   "metadata": {
    "id": "uppKVAMgcpoB",
    "scrolled": true
   },
   "outputs": [],
   "source": [
    "model = SentenceTransformer('sentence-transformers/paraphrase-multilingual-MiniLM-L12-v2')\n",
    "embeddings = model.encode(texts, show_porgress_bar=True)"
   ]
  },
  {
   "cell_type": "code",
   "execution_count": 9,
   "metadata": {
    "id": "TzFrDhP23CIH"
   },
   "outputs": [],
   "source": [
    "index_name = \"rag\"\n",
    "pc = PC(api_key=\"pcsk_6JsENF_EkUKdhWBGJXSsKsbKdU2E5HAuGGq8AvfAvaCjFYj2BJUBxgEPq9GHQYMk2wK6ST\")\n",
    "index = pc.Index(index_name)"
   ]
  },
  {
   "cell_type": "code",
   "execution_count": 10,
   "metadata": {},
   "outputs": [],
   "source": [
    "# Suponha que cada vetor tenha cerca de 20KB, então 100 vetores ~ 2MB\n",
    "def batch_upsert(index, vectors, batch_size=100):\n",
    "    for i in range(0, len(vectors), batch_size):\n",
    "        batch = vectors[i:i + batch_size]\n",
    "        index.upsert(vectors=batch)\n",
    "\n",
    "\n"
   ]
  },
  {
   "cell_type": "code",
   "execution_count": 11,
   "metadata": {
    "id": "mrG8oFjW4V0P"
   },
   "outputs": [
    {
     "name": "stderr",
     "output_type": "stream",
     "text": [
      "/tmp/ipykernel_32148/3564623890.py:1: LangChainDeprecationWarning: The class `HuggingFaceEmbeddings` was deprecated in LangChain 0.2.2 and will be removed in 1.0. An updated version of the class exists in the :class:`~langchain-huggingface package and should be used instead. To use it run `pip install -U :class:`~langchain-huggingface` and import as `from :class:`~langchain_huggingface import HuggingFaceEmbeddings``.\n",
      "  embedder = HuggingFaceEmbeddings(\n"
     ]
    },
    {
     "data": {
      "application/vnd.jupyter.widget-view+json": {
       "model_id": "a98d9049e4c2480ebb379185b438acde",
       "version_major": 2,
       "version_minor": 0
      },
      "text/plain": [
       "modules.json:   0%|          | 0.00/229 [00:00<?, ?B/s]"
      ]
     },
     "metadata": {},
     "output_type": "display_data"
    },
    {
     "data": {
      "application/vnd.jupyter.widget-view+json": {
       "model_id": "e7febb1a9e154736b1ea05ee63399d33",
       "version_major": 2,
       "version_minor": 0
      },
      "text/plain": [
       "config_sentence_transformers.json:   0%|          | 0.00/122 [00:00<?, ?B/s]"
      ]
     },
     "metadata": {},
     "output_type": "display_data"
    },
    {
     "data": {
      "application/vnd.jupyter.widget-view+json": {
       "model_id": "7ca177032bf548be996adc5a8336dae4",
       "version_major": 2,
       "version_minor": 0
      },
      "text/plain": [
       "README.md:   0%|          | 0.00/3.89k [00:00<?, ?B/s]"
      ]
     },
     "metadata": {},
     "output_type": "display_data"
    },
    {
     "data": {
      "application/vnd.jupyter.widget-view+json": {
       "model_id": "c34dfd4025c941edb16aa09c03b28f67",
       "version_major": 2,
       "version_minor": 0
      },
      "text/plain": [
       "sentence_bert_config.json:   0%|          | 0.00/53.0 [00:00<?, ?B/s]"
      ]
     },
     "metadata": {},
     "output_type": "display_data"
    },
    {
     "data": {
      "application/vnd.jupyter.widget-view+json": {
       "model_id": "1ed5a38173e944edac2fead0fd89f207",
       "version_major": 2,
       "version_minor": 0
      },
      "text/plain": [
       "config.json:   0%|          | 0.00/645 [00:00<?, ?B/s]"
      ]
     },
     "metadata": {},
     "output_type": "display_data"
    },
    {
     "name": "stderr",
     "output_type": "stream",
     "text": [
      "Xet Storage is enabled for this repo, but the 'hf_xet' package is not installed. Falling back to regular HTTP download. For better performance, install the package with: `pip install huggingface_hub[hf_xet]` or `pip install hf_xet`\n"
     ]
    },
    {
     "data": {
      "application/vnd.jupyter.widget-view+json": {
       "model_id": "bf26b48631424858bbd86ddc782d99ee",
       "version_major": 2,
       "version_minor": 0
      },
      "text/plain": [
       "model.safetensors:   0%|          | 0.00/471M [00:00<?, ?B/s]"
      ]
     },
     "metadata": {},
     "output_type": "display_data"
    },
    {
     "data": {
      "application/vnd.jupyter.widget-view+json": {
       "model_id": "0bce229271c44818b5fa3506e4b9a7a4",
       "version_major": 2,
       "version_minor": 0
      },
      "text/plain": [
       "tokenizer_config.json:   0%|          | 0.00/480 [00:00<?, ?B/s]"
      ]
     },
     "metadata": {},
     "output_type": "display_data"
    },
    {
     "name": "stderr",
     "output_type": "stream",
     "text": [
      "Xet Storage is enabled for this repo, but the 'hf_xet' package is not installed. Falling back to regular HTTP download. For better performance, install the package with: `pip install huggingface_hub[hf_xet]` or `pip install hf_xet`\n"
     ]
    },
    {
     "data": {
      "application/vnd.jupyter.widget-view+json": {
       "model_id": "43637e8874524672a354676acbad05ef",
       "version_major": 2,
       "version_minor": 0
      },
      "text/plain": [
       "tokenizer.json:   0%|          | 0.00/9.08M [00:00<?, ?B/s]"
      ]
     },
     "metadata": {},
     "output_type": "display_data"
    },
    {
     "data": {
      "application/vnd.jupyter.widget-view+json": {
       "model_id": "1ea87ac3bde04c3b9aed0724ce38cf20",
       "version_major": 2,
       "version_minor": 0
      },
      "text/plain": [
       "special_tokens_map.json:   0%|          | 0.00/239 [00:00<?, ?B/s]"
      ]
     },
     "metadata": {},
     "output_type": "display_data"
    },
    {
     "data": {
      "application/vnd.jupyter.widget-view+json": {
       "model_id": "50b68e3bf2754e75845625a2a52bac9c",
       "version_major": 2,
       "version_minor": 0
      },
      "text/plain": [
       "config.json:   0%|          | 0.00/190 [00:00<?, ?B/s]"
      ]
     },
     "metadata": {},
     "output_type": "display_data"
    },
    {
     "data": {
      "text/plain": [
       "{'dimension': 384,\n",
       " 'index_fullness': 0.0,\n",
       " 'metric': 'cosine',\n",
       " 'namespaces': {'': {'vector_count': 16347}},\n",
       " 'total_vector_count': 16347,\n",
       " 'vector_type': 'dense'}"
      ]
     },
     "execution_count": 11,
     "metadata": {},
     "output_type": "execute_result"
    }
   ],
   "source": [
    "embedder = HuggingFaceEmbeddings(\n",
    "    model_name=\"sentence-transformers/paraphrase-multilingual-MiniLM-L12-v2\", cache_folder=\"./ModeltoEmbedding\"\n",
    ")\n",
    "#texts eh uma lista de strings onde cada string é um documento.Essa função gera os embeddings\n",
    "embeddings= embedder.embed_documents(texts)\n",
    "# Associar os embeddings com seus IDs\n",
    "vectors = [(ids[i] ,embeddings[i]) for i in range(len(embeddings))]\n",
    "\n",
    "# Inserir os embeddings no Pinecone (upsert)\n",
    "# index.upsert(vectors=vectors)\n",
    "\n",
    "# Remove duplicatas por ID antes do upsert\n",
    "unique_vectors = list({v[0]: v for v in vectors}.values())\n",
    "# Exemplo de uso\n",
    "batch_upsert(index, vectors)\n",
    "\n",
    "# vectorstore = PineconeVectorStore.from_documents(docs_splitted, embedder, index_name=index_name)\n",
    "index.describe_index_stats()\n"
   ]
  },
  {
   "cell_type": "code",
   "execution_count": 12,
   "metadata": {
    "id": "IJfFBtIg4uzv"
   },
   "outputs": [],
   "source": [
    "query = \"Alimentos saudaveis\"\n",
    "\n",
    "\n",
    "#Funçao do pinecone que já realiza a busca\n",
    "# similar_docs = vectorstore.similarity_search(query, k=5)\n",
    "#função para pegar o embedding do query\n",
    "query_embedding = embedder.embed_query(query)"
   ]
  },
  {
   "cell_type": "code",
   "execution_count": 13,
   "metadata": {
    "colab": {
     "base_uri": "https://localhost:8080/"
    },
    "id": "bgl2SAUl41A4",
    "outputId": "7122b530-fa84-4286-ff52-845afe2510fe"
   },
   "outputs": [
    {
     "name": "stdout",
     "output_type": "stream",
     "text": [
      "<pinecone.data.index.Index object at 0x79d96a82b230>\n"
     ]
    }
   ],
   "source": [
    "\n",
    "#Resultado do metodo de busca padrao.\n",
    "# similar_docs\n",
    "print(index)\n"
   ]
  },
  {
   "cell_type": "code",
   "execution_count": 14,
   "metadata": {},
   "outputs": [
    {
     "name": "stdout",
     "output_type": "stream",
     "text": [
      "Similaridade: 0.7952\n",
      "Documento: formas de promover a alimentação adequada e saudável....\n",
      "--------------------------------------------------\n",
      "Similaridade: 0.7748\n",
      "Documento: nutricional dos alimentos dos quais derivam.\n",
      "Alimentos processados inc luem alimentos em conserva, frutas em \n",
      "calda, queijos e pães feitos de farinha de trigo, leveduras, água e sal...\n",
      "--------------------------------------------------\n",
      "Similaridade: 0.7706\n",
      "Documento: atenção pelas escolhas alimentares....\n",
      "--------------------------------------------------\n",
      "Similaridade: 0.7463\n",
      "Documento: • grão-de-bico;\n",
      "• soja;\n",
      "• amendoim e amêndoas.\n",
      "Para evitar a falta de cálcio no dia a dia, nada melhor que fazer uma alimentação saudável e com alimentos ricos em nutrientes. A seguir, con�ra\n",
      "algumas dicas de como colocar em prática esse hábito:\n",
      "O primeiro passo é optar por uma alimentação balanceada. Isto é, buscar o equilíbrio entre os grupos alimentares e consumir alimentos dos mais...\n",
      "--------------------------------------------------\n",
      "Similaridade: 0.7452\n",
      "Documento: consumo imediato sem utensílios domésticos. \n",
      "alimentos ultraprocessados incluem vários tipos de guloseimas, bebidas \n",
      "adoçadas com açúcar ou adoçantes artificiais, pós para refrescos, \n",
      "embutidos e outros produtos derivados de carne e gordura animal, \n",
      "produtos congelados prontos para aquecer, produtos desidratados (como \n",
      "misturas para bolo, sopas em pó, “macarrão” instantâneo e “tempero“ \n",
      "pronto), e uma infinidade de novos produtos que chegam ao mercado...\n",
      "--------------------------------------------------\n",
      "Similaridade: 0.7444\n",
      "Documento: compostos por três tipos de saladas, um prato proteico a base de proteína animal e \n",
      "uma opção vegetariana, três acompanhamentos (arroz branco, integral e feijão), \n",
      "uma guarnição, duas sobremesas (o cliente escolhe se quer doce ou fruta), suco \n",
      "concentrado de fruta e café. O contrato estabelecido entre a universidade pública e a \n",
      "terceirizada prevê o fornecimento diário de folhosos na salada e de doces e frutas \n",
      "como sobremesa, sendo facultado ao cliente escolher o que irá comer....\n",
      "--------------------------------------------------\n",
      "Similaridade: 0.7398\n",
      "Documento: Por exigirem pouco ou nenhum \n",
      "preparo, são excelentes opções \n",
      "para pequenas refeições. \n",
      "todas os alimentos que \n",
      "integram este grupo são ricos \n",
      "em minerais, vitaminas, fibras e \n",
      "gorduras saudáveis (gorduras \n",
      "insaturadas) e, como frutas e \n",
      "legumes e verduras, contêm \n",
      "compostos antioxidantes que \n",
      "previnem várias doenças.\n",
      "Castanhas, nozes, amêndoas \n",
      "e amendoins adicionados de \n",
      "sal ou açúcar são alimentos \n",
      "processados e, assim sendo, o \n",
      "consumo deve ser limitado.\n",
      "Castanhas\n",
      "Salada de folhas com...\n",
      "--------------------------------------------------\n",
      "Similaridade: 0.7345\n",
      "Documento: alimentação de crianças menores de dois anos, alimentação saudável para \n",
      "idosos e alimentos regionais....\n",
      "--------------------------------------------------\n",
      "Similaridade: 0.7341\n",
      "Documento: para o consumo como um alimento convencional ou como um único item de uma \n",
      "refeição, devendo obrigatoriamente receber adição de uma vitamina ou mineral; \n",
      "uma erva ou outros botânicos; um aminoácido; uma substância dietética para \n",
      "complementar a dieta por aumento da ingestão alimentar total30....\n",
      "--------------------------------------------------\n",
      "Similaridade: 0.7279\n",
      "Documento: PreParações CULinÁrias\n",
      "Utilizados com moderação em preparações culinárias com \n",
      "base em alimentos in natura ou minimamente processados, \n",
      "óleos, gorduras, sal e açúcar contribuem para diversificar \n",
      "e tornar mais saborosa a alimentação sem torná-la \n",
      "nutricionalmente desbalanceada. \n",
      "1\n",
      "2...\n",
      "--------------------------------------------------\n",
      "Similaridade: 0.7276\n",
      "Documento: 5352\n",
      "cAPíTULO 3. \n",
      "dOS ALIMENTOS à \n",
      "REfEIÇÃO\n",
      "no capítulo anterior, apresentamos recomendações gerais \n",
      "sobre a escolha de alimentos visando compor uma alimentação \n",
      "nutricionalmente balanceada, saborosa, culturalmente \n",
      "apropriada e promotora de sistemas alimentares socialmente e \n",
      "ambientalmente sustentáveis.\n",
      "em essência, dissemos que a base dessa alimentação consiste \n",
      "na grande variedade de alimentos in natura ou minimamente \n",
      "processados, predominantemente de origem vegetal, e...\n",
      "--------------------------------------------------\n",
      "Similaridade: 0.7211\n",
      "Documento: conter apenas alimentos in natura ou minimamente processados, \n",
      "grãos, raízes e tubérculos, farinhas, legumes e verduras, carnes e \n",
      "pescados são habitualmente consumidos na forma de preparações \n",
      "culinárias salgadas ou doces feitas com óleos, gorduras, sal ou \n",
      "açúcar. esses produtos são utilizados nas cozinhas das casas das \n",
      "pessoas ou nas cozinhas de restaurantes para temperar, misturar e...\n",
      "--------------------------------------------------\n",
      "Similaridade: 0.7205\n",
      "Documento: 7978\n",
      "MINISTÉRIO DA SAÚDE\n",
      "GrUPo das CastanHas e nozes\n",
      "este grupo de alimentos inclui \n",
      "vários tipos de castanhas (de caju, \n",
      "de baru, do-brasil ou do-pará) e \n",
      "nozes, e também, amêndoas e \n",
      "amendoim.\n",
      "Castanhas, nozes, amêndoas \n",
      "e amendoins têm vários \n",
      "usos culinários. Podem ser \n",
      "usados como ingredientes de \n",
      "saladas, de molhos e de várias \n",
      "preparações culinárias salgadas \n",
      "e doces (farofas, paçocas, pé \n",
      "de moleque) e também ser \n",
      "adicionados a saladas de frutas. \n",
      "Por exigirem pouco ou nenhum...\n",
      "--------------------------------------------------\n",
      "Similaridade: 0.7186\n",
      "Documento: ajudem o consumidor comer bem. Ascom. ANVISA; 2017....\n",
      "--------------------------------------------------\n",
      "Similaridade: 0.7138\n",
      "Documento: encontrarão informações sobre o que são e como podem ser criados \n",
      "restaurantes populares, cozinhas comunitárias, unidades de apoio à \n",
      "distribuição de alimentos da agricultura familiar, bancos de alimentos e \n",
      "mercados populares. \n",
      "santos, m. V. et al. os restaurantes por peso no contexto de alimentação saudável \n",
      "fora de casa. Revista de Nutrição, Campinas, v. 24, p. 641-649, 2011. disponível em: \n",
      "www.scielo.br/pdf/rn/v24n4/v24n4a12.pdf52732011000400012>....\n",
      "--------------------------------------------------\n",
      "Similaridade: 0.7133\n",
      "Documento: apresentações (ralados, em rodelas, tiras ou cubos). Legumes \n",
      "e verduras podem também ser consumidos em preparações à \n",
      "base de arroz, em molhos de macarrão, em recheios de tortas, \n",
      "com farinhas na forma de farofas ou mesmo empanados.\n",
      "a recomendação da adição de quantidades reduzidas de sal \n",
      "e óleo e do uso generoso de temperos naturais também se \n",
      "aplica a legumes e verduras. o uso do limão em saladas ajuda \n",
      "a reduzir a necessidade de adição de sal e óleo....\n",
      "--------------------------------------------------\n",
      "Similaridade: 0.7129\n",
      "Documento: e sanduíches, bolos industriais, \n",
      "biscoitos doces e guloseimas em \n",
      "geral, refrigerantes, “salgadinhos \n",
      "de pacote”, bebidas lácteas, \n",
      "salsichas e outros embutidos e \n",
      "queijos. \n",
      "análises da PoF 2008-\n",
      "2009, de grande relevância \n",
      "para as recomendações \n",
      "deste guia, mostram que, \n",
      "em seu conjunto, alimentos \n",
      "in natura ou minimamente \n",
      "processados e suas preparações \n",
      "culinárias apresentam \n",
      "composição nutricional muito \n",
      "superior à do conjunto de \n",
      "alimentos processados ou \n",
      "ultraprocessados....\n",
      "--------------------------------------------------\n",
      "Similaridade: 0.7117\n",
      "Documento: que os alimentos sejam mais bem aproveitados e para que não se coma \n",
      "mais que o necessário....\n",
      "--------------------------------------------------\n",
      "Similaridade: 0.7098\n",
      "Documento: e não substituir refeições com base em alimentos in natura ou \n",
      "minimamente processados é exemplificado na sobremesa de \n",
      "compota de jenipapo.\n",
      "Arroz, feijão, coxa de frango, repolho, \n",
      "moranga e laranja\n",
      "Alface, tomate, arroz, feijão, omelete, \n",
      "mandioca de forno\n",
      "Arroz, feijão, carne moída com legumesArroz, feijão, peito de frango, abóbora com quiabo e compota de jenipapo...\n",
      "--------------------------------------------------\n",
      "Similaridade: 0.7097\n",
      "Documento: Na dúvida, avalie como está sua alimentação em termos de variedade de frutas, legumes, hortaliças e grãos. Um primeiro passo pode ser incluir mais desses grupos alimentares no seu cardápio — e não excluir totalmente determinados nutrientes ou consumir outros em excesso....\n",
      "--------------------------------------------------\n",
      "Similaridade: 0.7081\n",
      "Documento: caso servida com frango. \n",
      "Legumes e verduras aparecem em todas as refeições, por vezes crus, na \n",
      "forma de saladas, cozidos ou refogados acompanhando o feijão com o \n",
      "arroz e, ainda, utilizados no preparo de sopas. \n",
      "Sopa de legumes, farinha de mandioca e açaí\n",
      "Arroz, feijão, fígado bovino e abobrinha refogada Salada de folhas, arroz, feijão, ovo e maçã\n",
      "Salada de folhas, macarrão e galeto...\n",
      "--------------------------------------------------\n",
      "Similaridade: 0.7050\n",
      "Documento: 2524\n",
      "cAPíTULO 2. \n",
      "A EScOLhA dOS \n",
      "ALIMENTOS \n",
      "este capítulo apresenta recomendações gerais que orientam \n",
      "a escolha de alimentos para compor uma alimentação \n",
      "nutricionalmente balanceada, saborosa e culturalmente \n",
      "apropriada e, ao mesmo tempo, promotora de sistemas \n",
      "alimentares socialmente e ambientalmente sustentáveis. \n",
      "essas recomendações foram elaboradas de acordo com \n",
      "os princípios explicitados no capítulo anterior e, como as \n",
      "demais recomendações deste guia, visam a maximizar a...\n",
      "--------------------------------------------------\n",
      "Similaridade: 0.7040\n",
      "Documento: promoção e a realização do direito humano à alimentação adequada.\n",
      "ministério da saúde...\n",
      "--------------------------------------------------\n",
      "Similaridade: 0.7036\n",
      "Documento: Para aproveitar toda a riqueza, a recomendação é prepará-los no vapor. Ficam perfeitos em saladas, sopas, pratos de massa à moda italiana e ainda em receitas asiáticas.\n",
      "Couve-de-bruxelas\n",
      "\n",
      "A hortaliça pequenina também oferece compostos de potencial anticâncer, caso dos isotiocianatos. Seu sabor é levemente amargo, graças à presença de uma substância conhecida como sinigrina. Entra no preparo de saladas, mas serve como acompanhamento de carnes, aves e massas.\n",
      "Couve-flor...\n",
      "--------------------------------------------------\n",
      "Similaridade: 0.7021\n",
      "Documento: Bruna Gomes Botelho, Isabela Figueiredo e Souza,  Clarice Lima Álvares da Silva, Kellem Regina Rosendo Vincha  | A \n",
      "autopercepção alimentar e corporal como recurso para a Educação Alimentar e Nutricional em grupo  \n",
      " \n",
      " \n",
      " \n",
      "R. Assoc. bras. Nutr. 2021; 12 (4): 18-37 \n",
      "ISSN 2357-7894 \n",
      " \n",
      " \n",
      "28 \n",
      "alimentares relatadas: maior consumo de verduras, maior variedade de alimentos, \n",
      "redução no consumo em quantidade e de gorduras, de temperos prontos, de lanches \n",
      "e de produtos ultraprocessados:...\n",
      "--------------------------------------------------\n",
      "Similaridade: 0.6986\n",
      "Documento: Segurança Alimentar e Nutricional. \n",
      "CaPítULo 2 – a esCoLHa dos aLimentos\n",
      "mozzaFFarian, d.; LUdWiG, d. dietary Guidelines in 21st Century: a time for \n",
      "food. JAMA, [s.l.], v. 304, p. 681-682, 2010.\n",
      "WiLLett, W. C.; sKerret, P. J. Eat, Drink, and Be Healthy: the Harvard \n",
      "medical school Guide to Healthy eating. new York: Free Press, 2005.\n",
      "A primeira publicação, um comentário publicado por dois pesquisadores \n",
      "da universidade de Harvard na revista da Associação médica Americana,...\n",
      "--------------------------------------------------\n",
      "Similaridade: 0.6968\n",
      "Documento: e preparações culinárias. Para ilustrar as possibilidades de aumentar \n",
      "e diversificar o consumo desses alimentos, procuramos refeições em \n",
      "que diferentes tipos de verduras e legumes (alface, tomate, acelga, \n",
      "couve, repolho, abóbora, beterraba, quiabo, berinjela, jiló) aparecem \n",
      "preparados de diversas formas, crus em saladas ou em preparações \n",
      "cozidas ou refogadas.\n",
      "Alface, arroz, lentilha, pernil, batata, repolho e abacaxi\n",
      "Alface, tomate, feijão, farinha \n",
      "de mandioca, peixe e cocada...\n",
      "--------------------------------------------------\n",
      "Similaridade: 0.6921\n",
      "Documento: Viu como não é difícil adicionar alimentos ricos em cálcio na sua alimentação diária? O importante é prezar por uma  e variada,\n",
      "com diferentes grupos alimentares por refeição. Para ajudar a montar o plano de acordo com as necessidades do seu corpo, procure um\n",
      "pro�ssional nutricionista e encontre os cardápios ideais para a sua rotina.\n",
      "Gostou das dicas? Compartilhe este post nas redes sociais para que os seus amigos também saibam como consumir mais cálcio no dia a dia!...\n",
      "--------------------------------------------------\n",
      "Similaridade: 0.6917\n",
      "Documento: culinárias com base em alimentos in natura ou minimamente \n",
      "processados, os óleos, as gorduras, o sal e o açúcar \n",
      "contribuem para diversificar e tornar mais saborosa a \n",
      "alimentação sem que fique nutricionalmente desbalanceada.  \n",
      "  \n",
      ". \n",
      "Óleos, gorduras, sal e \n",
      "açúcar são produtos \n",
      "alimentícios usados para \n",
      "temperar e cozinhar \n",
      "alimentos e para criar \n",
      "preparações cu linárias...\n",
      "--------------------------------------------------\n",
      "Similaridade: 0.6905\n",
      "Documento: variados tipos. Sabe aquela ideia de que um prato colorido é um dos mais saudáveis? Ela vem dizer sobre a importância da variedade no cardápio,\n",
      "com porções de carboidratos, proteínas,  e minerais.\n",
      "Consumir mais frutas, legumes, verduras, grãos e oleaginosas no dia a dia é um excelente passo para cuidar melhor da saúde física e mental. Dar\n",
      "preferência para alimentos naturais e pouco processados vai favorecer a absorção dos nutrientes e proporcionar uma vida mais saudável....\n",
      "--------------------------------------------------\n",
      "Similaridade: 0.6892\n",
      "Documento: essenciais. essas alterações, feitas \n",
      "com substituições entre tipos \n",
      "de alimentos com composição \n",
      "nutricional e uso culinário \n",
      "semelhantes (por exemplo, feijões \n",
      "substituídos por lentilhas ou grão-\n",
      "de-bico; batata por mandioca ou \n",
      "cará; quiabo por jiló ou abóbora), \n",
      "tornam a alimentação ainda mais \n",
      "saudável, pois as variedades dentro \n",
      "de um mesmo grupo de alimentos \n",
      "implicam maior diversidade no \n",
      "aporte de nutrientes. \n",
      "as variações em torno dos alimentos \n",
      "de um mesmo grupo agradam...\n",
      "--------------------------------------------------\n",
      "Similaridade: 0.6884\n",
      "Documento: social e fatores que determinam as escolhas de alimentos....\n",
      "--------------------------------------------------\n",
      "Similaridade: 0.6873\n",
      "Documento: alimentos in natura ou minimamente processados e para criar \n",
      "preparações culinárias variadas e agradáveis ao paladar. raramente \n",
      "são consumidos na ausência daqueles alimentos.\n",
      "óleos ou gorduras, por exemplo, são utilizados para cozinhar arroz e feijão, \n",
      "para refogar legumes, verduras e carnes, para fritar ovos e tubérculos \n",
      "e no preparo de caldos e sopas. óleos são também adicionados em \n",
      "saladas de verduras e legumes como forma de tempero. o sal é usado...\n",
      "--------------------------------------------------\n",
      "Similaridade: 0.6872\n",
      "Documento: existe uma tendência para que experimentem esse tipo de alimento considerando \n",
      "um possível futuro de escassez alimentar ou a uma alternativa proteica sustentável \n",
      "em relação à pecuária tradicional 3,5. Com relação ao modo de preparo, apresentação \n",
      "e partes com estíveis, destaca-se que produtos processados (como as farinhas), \n",
      "ultraprocessados (snacks, granolas, barras energéticas) ou que sejam misturados a \n",
      "outras comidas (p.ex. farofas, chocolates) possuem maior aceitação do que para...\n",
      "--------------------------------------------------\n",
      "Similaridade: 0.6872\n",
      "Documento: décadas pela agricultura e pela indústria de alimentos. Traz a seguinte importante \n",
      "mensagem: padrões de alimentação nutricionalmente equilibrados contribuem \n",
      "para reduzir o impacto ecológico da alimentação e promovem a biodiversidade.\n",
      "WorLd HeaLtH orGanization; Food and aGriCULtUre \n",
      "orGanization oF tHe United nations. Preparation and use of food-\n",
      "based dietary guidelines: report of a joint Fao/WHo consultation nicosia, \n",
      "Cyprus. Geneva, 1996. disponível em: <www.fao.org/docrep/x0243e/x0243e00....\n",
      "--------------------------------------------------\n",
      "Similaridade: 0.6870\n",
      "Documento: de grãos, raízes, tubérculos, \n",
      "farinhas, legumes, verduras, frutas \n",
      "e castanhas – constituem base \n",
      "excelente para uma alimentação \n",
      "nutricionalmente balanceada, \n",
      "saborosa e culturalmente \n",
      "apropriada. \n",
      "razões soCiais e \n",
      "amBientais\n",
      "a opção por vários tipos de \n",
      "alimentos de origem vegetal \n",
      "e pelo limitado consumo de \n",
      "alimentos de origem animal \n",
      "implica indiretamente a opção \n",
      "por um sistema alimentar \n",
      "socialmente mais justo e menos \n",
      "estressante para o ambiente \n",
      "físico, para os animais e para a...\n",
      "--------------------------------------------------\n",
      "Similaridade: 0.6865\n",
      "Documento: quantidade energética e proteica da alimentação, ácidos graxos mono e poli -\n",
      "insaturados, alimentos antioxidantes, anti -inflamatórios e fonte de vitamina D. \n",
      "Desse modo, é indicado o consumo de nozes, peixes, óleo de oliva, carne, leite, \n",
      "legumes e vegetais, em quantidades adequadas de acordo com a individualidade do \n",
      "sujeito27....\n",
      "--------------------------------------------------\n",
      "Similaridade: 0.6856\n",
      "Documento: Realizar as refeições em família pode favorecer a formação de hábitos alimentares \n",
      "saudáveis, para as crianças, tanto em termos nutricionais, priorizando alimentos in \n",
      "natura e/ou minimamente processados, como sociais e comportamentais, \n",
      "enfatizando a importância do ambiente e a maneira como as refeições são \n",
      "realizadas2,5,6. A refeição em família é associada a desfechos alimentares e...\n",
      "--------------------------------------------------\n",
      "Similaridade: 0.6848\n",
      "Documento: alimentos in natura ou minimamente processados.\n",
      "Bebidas lácteas e iogurtes adoçados e adicionados de corantes \n",
      "e saborizantes são alimentos ultraprocessados e, como tal, \n",
      "devem ser evitados....\n",
      "--------------------------------------------------\n",
      "Similaridade: 0.6846\n",
      "Documento: a vida social e o meio ambiente.\n",
      "A regra de ouro. Prefira sempre alimentos in natura ou \n",
      "minimamente processados e preparações culinárias a \n",
      "alimentos ultraprocessados \n",
      "opte por água, leite e frutas no lugar de refrigerantes, bebidas \n",
      "lácteas e biscoitos recheados; não troque a “comida feita na \n",
      "hora” (caldos, sopas, saladas, molhos, arroz e feijão, macarronada, \n",
      "refogados de legumes e verduras, farofas, tortas) por produtos \n",
      "que dispensam preparação culinária (“sopas de pacote”, “macarrão...\n",
      "--------------------------------------------------\n",
      "Similaridade: 0.6833\n",
      "Documento: práticas de fabricação em serviços de alimentação. Revista de Nutrição. 2005; \n",
      "18(3)....\n",
      "--------------------------------------------------\n",
      "Similaridade: 0.6833\n",
      "Documento: positivos, mostrou-se inadequada. Houve excesso de alimentos industrializados, \n",
      "geralmente ricos em açúcares, gorduras e sódio e baixa presença de frutas, verduras \n",
      "e legumes18. A qualidade do lanche que é levado de casa para escola também reflete o \n",
      "hábito alimentar da família e possivelmente as demais refeições realizadas em casa....\n",
      "--------------------------------------------------\n",
      "Similaridade: 0.6830\n",
      "Documento: Confira 7 dicas para garantir uma alimentação saudável no dia a dia \n",
      "É por meio da alimentação que o corpo humano obtém a maior parte dos nutrientes essenciais de que precisa para gerar energia e manter seu bom funcionamento. Assim, adotar uma dieta equilibrada aparece como um dos principais pilares da saúde e do bem-estar....\n",
      "--------------------------------------------------\n",
      "Similaridade: 0.6823\n",
      "Documento: Por isso, diversifica-se as refeições com a maior variedade possível de proteínas de origem animal (ovo, leite, frango etc.) e também de origem vegetal (abacate, espinafre, amendoim etc.). A ideia aqui é ficar o mínimo possível dependente de suplementação.\n",
      "2. Bulking...\n",
      "--------------------------------------------------\n",
      "Similaridade: 0.6820\n",
      "Documento: abrangente da relação entre alimentação e saúde adotado por este guia, \n",
      "em particular quanto a não reduzir os alimentos aos nutrientes individuais \n",
      "neles contidos. \n",
      "Contreras, J.; GraCia, m. Alimentação, Sociedade e Cultura. rio de \n",
      "Janeiro: editora Fiocruz, 2011.\n",
      "FisCHLer, C. Commensality, society and culture. Social Science Information, \n",
      "[s.l.], v. 50, p. 528-548, 2011. disponível em: <http://ssi.sagepub.com/\n",
      "content/50/3-4/528.full.pdf+html>....\n",
      "--------------------------------------------------\n",
      "Similaridade: 0.6820\n",
      "Documento: 8584\n",
      "MINISTÉRIO DA SAÚDE\n",
      "chuchu, brócolis, maxixe e abobrinha. são também usados com \n",
      "leite e açúcar na preparação de bolos, pudins e tortas doces. \n",
      "Como as carnes e os peixes, os ovos são ricos em proteínas de \n",
      "alta qualidade, em minerais e em vitaminas, especialmente as \n",
      "do complexo B. são também considerados bons substitutos \n",
      "para as carnes vermelhas. \n",
      "Por diversas razões, algumas pessoas optam por não consumir \n",
      "alimentos de origem animal, sendo assim denominadas...\n",
      "--------------------------------------------------\n",
      "Similaridade: 0.6816\n",
      "Documento: Da mesma maneira que é importante consumir diferentes grupos alimentares na rotina, é necessário também se alimentar regularmente ao longo\n",
      "do dia. Geralmente, fazer cinco refeições ajuda a manter o corpo bem nutrido, saciado e com energia su�ciente para fazer todas as suas atividades.\n",
      "Café da manhã, almoço e jantar são as refeições indispensáveis. No entanto, entre elas, é possível adicionar dois ou mais lanches pequenos e...\n",
      "--------------------------------------------------\n",
      "Similaridade: 0.6807\n",
      "Documento: relativamente baixo4. Além disso, possui considerável valor  nutricional com relação...\n",
      "--------------------------------------------------\n",
      "Similaridade: 0.6802\n",
      "Documento: Uma alimentação saudável conta com variedade de nutrientes. Consumir alimentos ricos em cálcio no dia a dia, principalmente na infância, oferece\n",
      "ótimos benefícios para o corpo. A�nal, esse é um dos minerais essenciais para o funcionamento do organismo.\n",
      "Quando o assunto é consumir mais cálcio na alimentação, é comum que as pessoas pensem diretamente no leite. No entanto, existem diversas\n",
      "outras opções de alimentos ricos em minerais, inclusive sem origem animal....\n",
      "--------------------------------------------------\n",
      "Similaridade: 0.6795\n",
      "Documento: Agatta Caroline de Souza, Daniele Caroline Faria Moreira  | Avaliação do teor de macrominerais  em refeições hospitalares \n",
      "com e sem uso de módulos de nutrientes  \n",
      " \n",
      " \n",
      " \n",
      "R. Assoc. bras. Nutr. 2020; 11 (1): 95-114 \n",
      "ISSN 2357-7894 \n",
      " \n",
      "105 \n",
      "e branda, e excesso de alimentos processados e ultraprocessados na dieta pastosa. \n",
      "Nos cardápios foram identificados o uso de azeitonas, bacon, presunto, muçarela, \n",
      "refrescos, caldos em tabletes utilizados como temperos, molhos de tomate e purês...\n",
      "--------------------------------------------------\n"
     ]
    }
   ],
   "source": [
    "#Implementando uma busca personalizada\n",
    "#Baseando-se na busca de similaridade por cosseno , para mais detalhes: https://pt.wikipedia.org/wiki/Produto_escalar\n",
    "#Tem esse estudo falando sobre o problema deste método que é interessante: https://www.shaped.ai/blog/cosine-similarity-not-the-silver-bullet-we-thought-it-was\n",
    "def cosine_similarity(v1, v2):\n",
    "    norm1 = np.linalg.norm(v1)\n",
    "    norm2 = np.linalg.norm(v2)\n",
    "    if norm1 == 0 or norm2 == 0:\n",
    "        return 0.0\n",
    "    return np.dot(v1, v2) / (norm1 * norm2)\n",
    "\n",
    "\n",
    "# Calcular similaridade entre a consulta e todos os documentos\n",
    "similarities = [cosine_similarity(query_embedding,doc_embedding) for doc_embedding in embeddings]\n",
    "# Ordenar os índices dos documentos pela similaridade de forma decrescente\n",
    "sorted_indices = np.argsort(similarities)[::-1]\n",
    "\n",
    "# Obter os documentos mais semelhantes (top 5)\n",
    "top_k = 50\n",
    "top_docs = [texts[i] for i in sorted_indices[:top_k]]\n",
    "top_similarities = [similarities[i] for i in sorted_indices[:top_k]]\n",
    "top_embeddings = [embeddings[i] for i in sorted_indices[:top_k]]\n",
    "# Exibir os resultados\n",
    "for doc, sim in zip(top_docs, top_similarities):\n",
    "    print(f\"Similaridade: {sim:.4f}\")\n",
    "    print(f\"Documento: {doc[:1000]}...\")  # Exibir os primeiros 200 caracteres do documento\n",
    "    print(\"-\" * 50)\n"
   ]
  },
  {
   "cell_type": "code",
   "execution_count": 15,
   "metadata": {},
   "outputs": [
    {
     "name": "stdout",
     "output_type": "stream",
     "text": [
      "Dimensão dos embeddings: 384\n",
      "Todos os embeddings têm dimensões consistentes.\n"
     ]
    },
    {
     "data": {
      "image/png": "[encoded data removed]",
      "text/plain": [
       "<Figure size 1000x600 with 1 Axes>"
      ]
     },
     "metadata": {},
     "output_type": "display_data"
    },
    {
     "name": "stderr",
     "output_type": "stream",
     "text": [
      "/home/geovana/miniconda3/envs/redesneurais/lib/python3.13/site-packages/sklearn/utils/deprecation.py:151: FutureWarning: 'force_all_finite' was renamed to 'ensure_all_finite' in 1.6 and will be removed in 1.8.\n",
      "  warnings.warn(\n"
     ]
    },
    {
     "data": {
      "application/vnd.plotly.v1+json": {
       "config": {
        "plotlyServerURL": "https://plot.ly"
       },
       "data": [
        {
         "hovertemplate": "x=%{x}<br>y=%{y}<br>z=%{z}<br>text=%{text}<extra></extra>",
         "legendgroup": "",
         "marker": {
          "color": "#636efa",
          "symbol": "circle"
         },
         "mode": "markers+text",
         "name": "",
         "scene": "scene",
         "showlegend": false,
         "text": [
          "Doc 1",
          "Doc 2",
          "Doc 3",
          "Doc 4",
          "Doc 5",
          "Doc 6",
          "Doc 7",
          "Doc 8",
          "Doc 9",
          "Doc 10",
          "Doc 11",
          "Doc 12",
          "Doc 13",
          "Doc 14",
          "Doc 15",
          "Doc 16",
          "Doc 17",
          "Doc 18",
          "Doc 19",
          "Doc 20",
          "Doc 21",
          "Doc 22",
          "Doc 23",
          "Doc 24",
          "Doc 25",
          "Doc 26",
          "Doc 27",
          "Doc 28",
          "Doc 29",
          "Doc 30",
          "Doc 31",
          "Doc 32",
          "Doc 33",
          "Doc 34",
          "Doc 35",
          "Doc 36",
          "Doc 37",
          "Doc 38",
          "Doc 39",
          "Doc 40",
          "Doc 41",
          "Doc 42",
          "Doc 43",
          "Doc 44",
          "Doc 45",
          "Doc 46",
          "Doc 47",
          "Doc 48",
          "Doc 49",
          "Doc 50",
          "Consulta"
         ],
         "type": "scatter3d",
         "x": {
          "bdata": "igEuQZgNEUES3S9BeI4eQS/hEkEX0ApBaKsRQfoOI0FTzw9Bw0YcQQ+hKUG6/QxBC0wDQZT7GEFbsiBB8Q4KQZASHEH3MiZBkRv8QOkSEkFhAAJBEzEqQYXFK0GrQwRBDYYYQZ+LJkFLtwNB6BcYQWVEGEEc7glB8cAPQZHUMkFzhghBNwMaQfnDJEGv9hpB6HYLQfnmG0HqMxZBynoPQZJYHEGJExVBImgXQd+8FEFXMytBgbQJQfPOHEGZowdBO2UQQZVaEUH90jBB",
          "dtype": "f4"
         },
         "y": {
          "bdata": "UmvlQBOYw0Cg+tdABRX2QL6Uq0CMOMpAMvrcQGim90Dk2e9AKIfJQI4C0UABBK9ANjevQGR610DvftpAm8rCQHOitUAu88lA/miwQE+T4UBpMbpA7urJQHOP2EAWbsxAvrPEQGD8w0D2EMFAzWLyQCoL00BMJd1AZ8HVQNOP0kBXvbhAz9i/QMh9yUCTMtlAysToQDZK/EDuZbtAsFazQHqXyED95eNAjo3+QFeyx0AppsdApSfPQKZSAUHOhvFAO+n7QDnpxkCqf+dA",
          "dtype": "f4"
         },
         "z": {
          "bdata": "niASQVbW40CYjwJB5kkCQeLq50CPVQpBPl0PQVRcEEEiNwhBO5DsQK+jAkHFJONAWjjvQCrpGUE21hJBvVz+QDmH8EBUyfZACJzwQGlN+0CKIPJAloELQXW7FEGxEQZB6yQYQW1MFkEWz+5A2dsAQSyE/UAxowVB2wz/QOC/BkHHk+FAqDf+QBWyB0FMUwdBEEsOQbuSDkHqsu5AL/jeQMrNHEFAMgtBEkUGQddxBUFSsRVB2+IQQRn8B0EIsA5BdbsOQfDZGUGyYwpB",
          "dtype": "f4"
         }
        }
       ],
       "layout": {
        "legend": {
         "tracegroupgap": 0
        },
        "scene": {
         "domain": {
          "x": [
           0,
           1
          ],
          "y": [
           0,
           1
          ]
         },
         "xaxis": {
          "title": {
           "text": "x"
          }
         },
         "yaxis": {
          "title": {
           "text": "y"
          }
         },
         "zaxis": {
          "title": {
           "text": "z"
          }
         }
        },
        "template": {
         "data": {
          "bar": [
           {
            "error_x": {
             "color": "#2a3f5f"
            },
            "error_y": {
             "color": "#2a3f5f"
            },
            "marker": {
             "line": {
              "color": "#E5ECF6",
              "width": 0.5
             },
             "pattern": {
              "fillmode": "overlay",
              "size": 10,
              "solidity": 0.2
             }
            },
            "type": "bar"
           }
          ],
          "barpolar": [
           {
            "marker": {
             "line": {
              "color": "#E5ECF6",
              "width": 0.5
             },
             "pattern": {
              "fillmode": "overlay",
              "size": 10,
              "solidity": 0.2
             }
            },
            "type": "barpolar"
           }
          ],
          "carpet": [
           {
            "aaxis": {
             "endlinecolor": "#2a3f5f",
             "gridcolor": "white",
             "linecolor": "white",
             "minorgridcolor": "white",
             "startlinecolor": "#2a3f5f"
            },
            "baxis": {
             "endlinecolor": "#2a3f5f",
             "gridcolor": "white",
             "linecolor": "white",
             "minorgridcolor": "white",
             "startlinecolor": "#2a3f5f"
            },
            "type": "carpet"
           }
          ],
          "choropleth": [
           {
            "colorbar": {
             "outlinewidth": 0,
             "ticks": ""
            },
            "type": "choropleth"
           }
          ],
          "contour": [
           {
            "colorbar": {
             "outlinewidth": 0,
             "ticks": ""
            },
            "colorscale": [
             [
              0,
              "#0d0887"
             ],
             [
              0.1111111111111111,
              "#46039f"
             ],
             [
              0.2222222222222222,
              "#7201a8"
             ],
             [
              0.3333333333333333,
              "#9c179e"
             ],
             [
              0.4444444444444444,
              "#bd3786"
             ],
             [
              0.5555555555555556,
              "#d8576b"
             ],
             [
              0.6666666666666666,
              "#ed7953"
             ],
             [
              0.7777777777777778,
              "#fb9f3a"
             ],
             [
              0.8888888888888888,
              "#fdca26"
             ],
             [
              1,
              "#f0f921"
             ]
            ],
            "type": "contour"
           }
          ],
          "contourcarpet": [
           {
            "colorbar": {
             "outlinewidth": 0,
             "ticks": ""
            },
            "type": "contourcarpet"
           }
          ],
          "heatmap": [
           {
            "colorbar": {
             "outlinewidth": 0,
             "ticks": ""
            },
            "colorscale": [
             [
              0,
              "#0d0887"
             ],
             [
              0.1111111111111111,
              "#46039f"
             ],
             [
              0.2222222222222222,
              "#7201a8"
             ],
             [
              0.3333333333333333,
              "#9c179e"
             ],
             [
              0.4444444444444444,
              "#bd3786"
             ],
             [
              0.5555555555555556,
              "#d8576b"
             ],
             [
              0.6666666666666666,
              "#ed7953"
             ],
             [
              0.7777777777777778,
              "#fb9f3a"
             ],
             [
              0.8888888888888888,
              "#fdca26"
             ],
             [
              1,
              "#f0f921"
             ]
            ],
            "type": "heatmap"
           }
          ],
          "histogram": [
           {
            "marker": {
             "pattern": {
              "fillmode": "overlay",
              "size": 10,
              "solidity": 0.2
             }
            },
            "type": "histogram"
           }
          ],
          "histogram2d": [
           {
            "colorbar": {
             "outlinewidth": 0,
             "ticks": ""
            },
            "colorscale": [
             [
              0,
              "#0d0887"
             ],
             [
              0.1111111111111111,
              "#46039f"
             ],
             [
              0.2222222222222222,
              "#7201a8"
             ],
             [
              0.3333333333333333,
              "#9c179e"
             ],
             [
              0.4444444444444444,
              "#bd3786"
             ],
             [
              0.5555555555555556,
              "#d8576b"
             ],
             [
              0.6666666666666666,
              "#ed7953"
             ],
             [
              0.7777777777777778,
              "#fb9f3a"
             ],
             [
              0.8888888888888888,
              "#fdca26"
             ],
             [
              1,
              "#f0f921"
             ]
            ],
            "type": "histogram2d"
           }
          ],
          "histogram2dcontour": [
           {
            "colorbar": {
             "outlinewidth": 0,
             "ticks": ""
            },
            "colorscale": [
             [
              0,
              "#0d0887"
             ],
             [
              0.1111111111111111,
              "#46039f"
             ],
             [
              0.2222222222222222,
              "#7201a8"
             ],
             [
              0.3333333333333333,
              "#9c179e"
             ],
             [
              0.4444444444444444,
              "#bd3786"
             ],
             [
              0.5555555555555556,
              "#d8576b"
             ],
             [
              0.6666666666666666,
              "#ed7953"
             ],
             [
              0.7777777777777778,
              "#fb9f3a"
             ],
             [
              0.8888888888888888,
              "#fdca26"
             ],
             [
              1,
              "#f0f921"
             ]
            ],
            "type": "histogram2dcontour"
           }
          ],
          "mesh3d": [
           {
            "colorbar": {
             "outlinewidth": 0,
             "ticks": ""
            },
            "type": "mesh3d"
           }
          ],
          "parcoords": [
           {
            "line": {
             "colorbar": {
              "outlinewidth": 0,
              "ticks": ""
             }
            },
            "type": "parcoords"
           }
          ],
          "pie": [
           {
            "automargin": true,
            "type": "pie"
           }
          ],
          "scatter": [
           {
            "fillpattern": {
             "fillmode": "overlay",
             "size": 10,
             "solidity": 0.2
            },
            "type": "scatter"
           }
          ],
          "scatter3d": [
           {
            "line": {
             "colorbar": {
              "outlinewidth": 0,
              "ticks": ""
             }
            },
            "marker": {
             "colorbar": {
              "outlinewidth": 0,
              "ticks": ""
             }
            },
            "type": "scatter3d"
           }
          ],
          "scattercarpet": [
           {
            "marker": {
             "colorbar": {
              "outlinewidth": 0,
              "ticks": ""
             }
            },
            "type": "scattercarpet"
           }
          ],
          "scattergeo": [
           {
            "marker": {
             "colorbar": {
              "outlinewidth": 0,
              "ticks": ""
             }
            },
            "type": "scattergeo"
           }
          ],
          "scattergl": [
           {
            "marker": {
             "colorbar": {
              "outlinewidth": 0,
              "ticks": ""
             }
            },
            "type": "scattergl"
           }
          ],
          "scattermap": [
           {
            "marker": {
             "colorbar": {
              "outlinewidth": 0,
              "ticks": ""
             }
            },
            "type": "scattermap"
           }
          ],
          "scattermapbox": [
           {
            "marker": {
             "colorbar": {
              "outlinewidth": 0,
              "ticks": ""
             }
            },
            "type": "scattermapbox"
           }
          ],
          "scatterpolar": [
           {
            "marker": {
             "colorbar": {
              "outlinewidth": 0,
              "ticks": ""
             }
            },
            "type": "scatterpolar"
           }
          ],
          "scatterpolargl": [
           {
            "marker": {
             "colorbar": {
              "outlinewidth": 0,
              "ticks": ""
             }
            },
            "type": "scatterpolargl"
           }
          ],
          "scatterternary": [
           {
            "marker": {
             "colorbar": {
              "outlinewidth": 0,
              "ticks": ""
             }
            },
            "type": "scatterternary"
           }
          ],
          "surface": [
           {
            "colorbar": {
             "outlinewidth": 0,
             "ticks": ""
            },
            "colorscale": [
             [
              0,
              "#0d0887"
             ],
             [
              0.1111111111111111,
              "#46039f"
             ],
             [
              0.2222222222222222,
              "#7201a8"
             ],
             [
              0.3333333333333333,
              "#9c179e"
             ],
             [
              0.4444444444444444,
              "#bd3786"
             ],
             [
              0.5555555555555556,
              "#d8576b"
             ],
             [
              0.6666666666666666,
              "#ed7953"
             ],
             [
              0.7777777777777778,
              "#fb9f3a"
             ],
             [
              0.8888888888888888,
              "#fdca26"
             ],
             [
              1,
              "#f0f921"
             ]
            ],
            "type": "surface"
           }
          ],
          "table": [
           {
            "cells": {
             "fill": {
              "color": "#EBF0F8"
             },
             "line": {
              "color": "white"
             }
            },
            "header": {
             "fill": {
              "color": "#C8D4E3"
             },
             "line": {
              "color": "white"
             }
            },
            "type": "table"
           }
          ]
         },
         "layout": {
          "annotationdefaults": {
           "arrowcolor": "#2a3f5f",
           "arrowhead": 0,
           "arrowwidth": 1
          },
          "autotypenumbers": "strict",
          "coloraxis": {
           "colorbar": {
            "outlinewidth": 0,
            "ticks": ""
           }
          },
          "colorscale": {
           "diverging": [
            [
             0,
             "#8e0152"
            ],
            [
             0.1,
             "#c51b7d"
            ],
            [
             0.2,
             "#de77ae"
            ],
            [
             0.3,
             "#f1b6da"
            ],
            [
             0.4,
             "#fde0ef"
            ],
            [
             0.5,
             "#f7f7f7"
            ],
            [
             0.6,
             "#e6f5d0"
            ],
            [
             0.7,
             "#b8e186"
            ],
            [
             0.8,
             "#7fbc41"
            ],
            [
             0.9,
             "#4d9221"
            ],
            [
             1,
             "#276419"
            ]
           ],
           "sequential": [
            [
             0,
             "#0d0887"
            ],
            [
             0.1111111111111111,
             "#46039f"
            ],
            [
             0.2222222222222222,
             "#7201a8"
            ],
            [
             0.3333333333333333,
             "#9c179e"
            ],
            [
             0.4444444444444444,
             "#bd3786"
            ],
            [
             0.5555555555555556,
             "#d8576b"
            ],
            [
             0.6666666666666666,
             "#ed7953"
            ],
            [
             0.7777777777777778,
             "#fb9f3a"
            ],
            [
             0.8888888888888888,
             "#fdca26"
            ],
            [
             1,
             "#f0f921"
            ]
           ],
           "sequentialminus": [
            [
             0,
             "#0d0887"
            ],
            [
             0.1111111111111111,
             "#46039f"
            ],
            [
             0.2222222222222222,
             "#7201a8"
            ],
            [
             0.3333333333333333,
             "#9c179e"
            ],
            [
             0.4444444444444444,
             "#bd3786"
            ],
            [
             0.5555555555555556,
             "#d8576b"
            ],
            [
             0.6666666666666666,
             "#ed7953"
            ],
            [
             0.7777777777777778,
             "#fb9f3a"
            ],
            [
             0.8888888888888888,
             "#fdca26"
            ],
            [
             1,
             "#f0f921"
            ]
           ]
          },
          "colorway": [
           "#636efa",
           "#EF553B",
           "#00cc96",
           "#ab63fa",
           "#FFA15A",
           "#19d3f3",
           "#FF6692",
           "#B6E880",
           "#FF97FF",
           "#FECB52"
          ],
          "font": {
           "color": "#2a3f5f"
          },
          "geo": {
           "bgcolor": "white",
           "lakecolor": "white",
           "landcolor": "#E5ECF6",
           "showlakes": true,
           "showland": true,
           "subunitcolor": "white"
          },
          "hoverlabel": {
           "align": "left"
          },
          "hovermode": "closest",
          "mapbox": {
           "style": "light"
          },
          "paper_bgcolor": "white",
          "plot_bgcolor": "#E5ECF6",
          "polar": {
           "angularaxis": {
            "gridcolor": "white",
            "linecolor": "white",
            "ticks": ""
           },
           "bgcolor": "#E5ECF6",
           "radialaxis": {
            "gridcolor": "white",
            "linecolor": "white",
            "ticks": ""
           }
          },
          "scene": {
           "xaxis": {
            "backgroundcolor": "#E5ECF6",
            "gridcolor": "white",
            "gridwidth": 2,
            "linecolor": "white",
            "showbackground": true,
            "ticks": "",
            "zerolinecolor": "white"
           },
           "yaxis": {
            "backgroundcolor": "#E5ECF6",
            "gridcolor": "white",
            "gridwidth": 2,
            "linecolor": "white",
            "showbackground": true,
            "ticks": "",
            "zerolinecolor": "white"
           },
           "zaxis": {
            "backgroundcolor": "#E5ECF6",
            "gridcolor": "white",
            "gridwidth": 2,
            "linecolor": "white",
            "showbackground": true,
            "ticks": "",
            "zerolinecolor": "white"
           }
          },
          "shapedefaults": {
           "line": {
            "color": "#2a3f5f"
           }
          },
          "ternary": {
           "aaxis": {
            "gridcolor": "white",
            "linecolor": "white",
            "ticks": ""
           },
           "baxis": {
            "gridcolor": "white",
            "linecolor": "white",
            "ticks": ""
           },
           "bgcolor": "#E5ECF6",
           "caxis": {
            "gridcolor": "white",
            "linecolor": "white",
            "ticks": ""
           }
          },
          "title": {
           "x": 0.05
          },
          "xaxis": {
           "automargin": true,
           "gridcolor": "white",
           "linecolor": "white",
           "ticks": "",
           "title": {
            "standoff": 15
           },
           "zerolinecolor": "white",
           "zerolinewidth": 2
          },
          "yaxis": {
           "automargin": true,
           "gridcolor": "white",
           "linecolor": "white",
           "ticks": "",
           "title": {
            "standoff": 15
           },
           "zerolinecolor": "white",
           "zerolinewidth": 2
          }
         }
        },
        "title": {
         "text": "Visualização 3D dos Embeddings com UMAP"
        }
       }
      },
      "image/png": "[encoded data removed]"
     },
     "metadata": {},
     "output_type": "display_data"
    }
   ],
   "source": [
    "# Verificar a dimensão de um embedding\n",
    "if embeddings:\n",
    "    embedding_dim = len(embeddings[0])\n",
    "    print(f\"Dimensão dos embeddings: {embedding_dim}\")\n",
    "else:\n",
    "    print(\"Nenhum embedding encontrado.\")\n",
    "\n",
    "# Verificar se todos os embeddings possuem a mesma dimensão\n",
    "dims = set(len(vec) for vec in embeddings)\n",
    "if len(dims) > 1:\n",
    "    print(f\"Atenção: Embeddings com diferentes dimensões encontradas: {dims}\")\n",
    "else:\n",
    "    print(\"Todos os embeddings têm dimensões consistentes.\")\n",
    "\n",
    "# Redução para 2D com PCA (inclui a query)\n",
    "top_k = 50\n",
    "similarities = [cosine_similarity(query_embedding, doc_embedding) for doc_embedding in embeddings]\n",
    "sorted_indices = np.argsort(similarities)[::-1]\n",
    "top_embeddings = [embeddings[i] for i in sorted_indices[:top_k]]\n",
    "\n",
    "points_2d = PCA(n_components=2).fit_transform(np.array(top_embeddings + [query_embedding]))\n",
    "\n",
    "plt.figure(figsize=(10, 6))\n",
    "for i in range(top_k):\n",
    "    plt.scatter(*points_2d[i], color='blue')\n",
    "    plt.text(points_2d[i][0], points_2d[i][1], f'Doc {i+1}', color='blue', fontsize=9)\n",
    "\n",
    "plt.scatter(*points_2d[-1], color='red', marker='X', s=100, label='Consulta')\n",
    "plt.text(points_2d[-1][0], points_2d[-1][1], 'Consulta', color='red', fontsize=10)\n",
    "plt.title(\"Visualização 2D dos embeddings mais semelhantes\")\n",
    "plt.xlabel(\"PCA 1\")\n",
    "plt.ylabel(\"PCA 2\")\n",
    "plt.grid(True)\n",
    "plt.legend()\n",
    "plt.tight_layout()\n",
    "plt.show()\n",
    "\n",
    "# Visualização 3D com UMAP (inclui a query)\n",
    "try:\n",
    "    reduced_3d = umap.UMAP(n_components=3).fit_transform(np.array(top_embeddings + [query_embedding]))\n",
    "\n",
    "    fig = px.scatter_3d(\n",
    "        x=reduced_3d[:, 0],\n",
    "        y=reduced_3d[:, 1],\n",
    "        z=reduced_3d[:, 2],\n",
    "        text=[f'Doc {i+1}' for i in range(top_k)] + ['Consulta'],\n",
    "        title=\"Visualização 3D dos Embeddings com UMAP\"\n",
    "    )\n",
    "    fig.show()\n",
    "except Exception as e:\n",
    "    print(f\"Erro ao gerar visualização 3D com UMAP: {e}\")"
   ]
  },
  {
   "cell_type": "code",
   "execution_count": null,
   "metadata": {},
   "outputs": [
    {
     "name": "stdout",
     "output_type": "stream",
     "text": [
      "Com base exclusiva e estrita nos seguintes documentos fornecidos. \n",
      "\n",
      "\n",
      "formas de promover a alimentação adequada e saudável.\n",
      "\n",
      "nutricional dos alimentos dos quais derivam.\n",
      "Alimentos processados inc luem alimentos em conserva, frutas em \n",
      "calda, queijos e pães feitos de farinha de trigo, leveduras, água e sal\n",
      "\n",
      "atenção pelas escolhas alimentares.\n",
      "\n",
      "• grão-de-bico;\n",
      "• soja;\n",
      "• amendoim e amêndoas.\n",
      "Para evitar a falta de cálcio no dia a dia, nada melhor que fazer uma alimentação saudável e com alimentos ricos em nutrientes. A seguir, con�ra\n",
      "algumas dicas de como colocar em prática esse hábito:\n",
      "O primeiro passo é optar por uma alimentação balanceada. Isto é, buscar o equilíbrio entre os grupos alimentares e consumir alimentos dos mais\n",
      "\n",
      "consumo imediato sem utensílios domésticos. \n",
      "alimentos ultraprocessados incluem vários tipos de guloseimas, bebidas \n",
      "adoçadas com açúcar ou adoçantes artificiais, pós para refrescos, \n",
      "embutidos e outros produtos derivados de carne e gordura animal, \n",
      "produtos congelados prontos para aquecer, produtos desidratados (como \n",
      "misturas para bolo, sopas em pó, “macarrão” instantâneo e “tempero“ \n",
      "pronto), e uma infinidade de novos produtos que chegam ao mercado\n",
      "\n",
      "compostos por três tipos de saladas, um prato proteico a base de proteína animal e \n",
      "uma opção vegetariana, três acompanhamentos (arroz branco, integral e feijão), \n",
      "uma guarnição, duas sobremesas (o cliente escolhe se quer doce ou fruta), suco \n",
      "concentrado de fruta e café. O contrato estabelecido entre a universidade pública e a \n",
      "terceirizada prevê o fornecimento diário de folhosos na salada e de doces e frutas \n",
      "como sobremesa, sendo facultado ao cliente escolher o que irá comer.\n",
      "\n",
      "Por exigirem pouco ou nenhum \n",
      "preparo, são excelentes opções \n",
      "para pequenas refeições. \n",
      "todas os alimentos que \n",
      "integram este grupo são ricos \n",
      "em minerais, vitaminas, fibras e \n",
      "gorduras saudáveis (gorduras \n",
      "insaturadas) e, como frutas e \n",
      "legumes e verduras, contêm \n",
      "compostos antioxidantes que \n",
      "previnem várias doenças.\n",
      "Castanhas, nozes, amêndoas \n",
      "e amendoins adicionados de \n",
      "sal ou açúcar são alimentos \n",
      "processados e, assim sendo, o \n",
      "consumo deve ser limitado.\n",
      "Castanhas\n",
      "Salada de folhas com\n",
      "\n",
      "alimentação de crianças menores de dois anos, alimentação saudável para \n",
      "idosos e alimentos regionais.\n",
      "\n",
      "para o consumo como um alimento convencional ou como um único item de uma \n",
      "refeição, devendo obrigatoriamente receber adição de uma vitamina ou mineral; \n",
      "uma erva ou outros botânicos; um aminoácido; uma substância dietética para \n",
      "complementar a dieta por aumento da ingestão alimentar total30.\n",
      "\n",
      "PreParações CULinÁrias\n",
      "Utilizados com moderação em preparações culinárias com \n",
      "base em alimentos in natura ou minimamente processados, \n",
      "óleos, gorduras, sal e açúcar contribuem para diversificar \n",
      "e tornar mais saborosa a alimentação sem torná-la \n",
      "nutricionalmente desbalanceada. \n",
      "1\n",
      "2\n",
      "\n",
      "5352\n",
      "cAPíTULO 3. \n",
      "dOS ALIMENTOS à \n",
      "REfEIÇÃO\n",
      "no capítulo anterior, apresentamos recomendações gerais \n",
      "sobre a escolha de alimentos visando compor uma alimentação \n",
      "nutricionalmente balanceada, saborosa, culturalmente \n",
      "apropriada e promotora de sistemas alimentares socialmente e \n",
      "ambientalmente sustentáveis.\n",
      "em essência, dissemos que a base dessa alimentação consiste \n",
      "na grande variedade de alimentos in natura ou minimamente \n",
      "processados, predominantemente de origem vegetal, e\n",
      "\n",
      "conter apenas alimentos in natura ou minimamente processados, \n",
      "grãos, raízes e tubérculos, farinhas, legumes e verduras, carnes e \n",
      "pescados são habitualmente consumidos na forma de preparações \n",
      "culinárias salgadas ou doces feitas com óleos, gorduras, sal ou \n",
      "açúcar. esses produtos são utilizados nas cozinhas das casas das \n",
      "pessoas ou nas cozinhas de restaurantes para temperar, misturar e\n",
      "\n",
      "7978\n",
      "MINISTÉRIO DA SAÚDE\n",
      "GrUPo das CastanHas e nozes\n",
      "este grupo de alimentos inclui \n",
      "vários tipos de castanhas (de caju, \n",
      "de baru, do-brasil ou do-pará) e \n",
      "nozes, e também, amêndoas e \n",
      "amendoim.\n",
      "Castanhas, nozes, amêndoas \n",
      "e amendoins têm vários \n",
      "usos culinários. Podem ser \n",
      "usados como ingredientes de \n",
      "saladas, de molhos e de várias \n",
      "preparações culinárias salgadas \n",
      "e doces (farofas, paçocas, pé \n",
      "de moleque) e também ser \n",
      "adicionados a saladas de frutas. \n",
      "Por exigirem pouco ou nenhum\n",
      "\n",
      "ajudem o consumidor comer bem. Ascom. ANVISA; 2017.\n",
      "\n",
      "encontrarão informações sobre o que são e como podem ser criados \n",
      "restaurantes populares, cozinhas comunitárias, unidades de apoio à \n",
      "distribuição de alimentos da agricultura familiar, bancos de alimentos e \n",
      "mercados populares. \n",
      "santos, m. V. et al. os restaurantes por peso no contexto de alimentação saudável \n",
      "fora de casa. Revista de Nutrição, Campinas, v. 24, p. 641-649, 2011. disponível em: \n",
      "www.scielo.br/pdf/rn/v24n4/v24n4a12.pdf52732011000400012>.\n",
      "\n",
      "\n",
      "Responda a seguinte pergunta de forma direta\n",
      "\n",
      "Alimentos saudaveis\n",
      "\n",
      "Caso não tenha dados suficientes para gerar um resposta, responda que não possui dados suficientes ou precisos para responder a pergunta.\n"
     ]
    }
   ],
   "source": [
    "#Chamar a IA com o prompt + contexto do RAG\n",
    "documentos = \"\\n\\n\".join([texts[i] for i in sorted_indices[:15]])\n",
    "\n",
    "prompt_final = f\"\"\"\n",
    "Com base exclusiva e estrita nos seguintes documentos fornecidos\n",
    "\n",
    "\n",
    "{documentos}\n",
    "\n",
    "\n",
    "Responda a seguinte pergunta de forma direta\n",
    "\n",
    "{query}\n",
    "\n",
    "Caso não tenha dados suficientes para gerar um resposta, responda que não possui dados suficientes ou precisos para responder a pergunta.\n",
    "\"\"\"\n",
    "\n",
    "\n",
    "\n",
    "\n",
    "print(prompt_final)\n",
    "client = Client()\n",
    "response = client.chat(\n",
    "    model='mistral',\n",
    "    messages=[\n",
    "       \n",
    "        {\"role\": \"user\", \"content\": prompt_final},\n",
    "        \n",
    "    ]\n",
    ")\n",
    "\n",
    "print('\\n \\n Resposta Model \\n \\n ')\n",
    "print(response['message']['content'])"
   ]
  }
 ],
 "metadata": {
  "colab": {
   "provenance": []
  },
  "kernelspec": {
   "display_name": "Python 3 (ipykernel)",
   "language": "python",
   "name": "python3"
  },
  "language_info": {
   "codemirror_mode": {
    "name": "ipython",
    "version": 3
   },
   "file_extension": ".py",
   "mimetype": "text/x-python",
   "name": "python",
   "nbconvert_exporter": "python",
   "pygments_lexer": "ipython3",
   "version": "3.13.2"
  }
 },
 "nbformat": 4,
 "nbformat_minor": 4
}
